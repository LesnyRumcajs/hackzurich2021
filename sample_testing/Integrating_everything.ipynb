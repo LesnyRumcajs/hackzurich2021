{
  "nbformat": 4,
  "nbformat_minor": 0,
  "metadata": {
    "colab": {
      "name": "Integrating_everything.ipynb",
      "provenance": []
    },
    "kernelspec": {
      "name": "python3",
      "display_name": "Python 3"
    },
    "language_info": {
      "name": "python"
    }
  },
  "cells": [
    {
      "cell_type": "code",
      "metadata": {
        "colab": {
          "base_uri": "https://localhost:8080/"
        },
        "id": "CC3GtYmUDWFq",
        "outputId": "816fd737-495b-4d4d-921c-d20d7e44b763"
      },
      "source": [
        "! wget http://hackzurich.siemens.cool/downloads/rssi.zip\n",
        "!unzip \"/content/rssi.zip\" -d \"/content/rssi/\"\n"
      ],
      "execution_count": 1,
      "outputs": [
        {
          "output_type": "stream",
          "name": "stdout",
          "text": [
            "--2021-09-25 22:35:53--  http://hackzurich.siemens.cool/downloads/rssi.zip\n",
            "Resolving hackzurich.siemens.cool (hackzurich.siemens.cool)... 52.219.74.94\n",
            "Connecting to hackzurich.siemens.cool (hackzurich.siemens.cool)|52.219.74.94|:80... connected.\n",
            "HTTP request sent, awaiting response... 200 OK\n",
            "Length: 752326164 (717M) [application/zip]\n",
            "Saving to: ‘rssi.zip’\n",
            "\n",
            "rssi.zip            100%[===================>] 717.47M  29.1MB/s    in 40s     \n",
            "\n",
            "2021-09-25 22:36:33 (18.1 MB/s) - ‘rssi.zip’ saved [752326164/752326164]\n",
            "\n",
            "Archive:  /content/rssi.zip\n",
            "  inflating: /content/rssi/rssi.csv  \n"
          ]
        }
      ]
    },
    {
      "cell_type": "code",
      "metadata": {
        "id": "huMb7QukGb3F"
      },
      "source": [
        ""
      ],
      "execution_count": null,
      "outputs": []
    },
    {
      "cell_type": "code",
      "metadata": {
        "id": "3B0rpYzaC9I7"
      },
      "source": [
        "import pandas as pd\n",
        "import numpy as np\n",
        "import tensorflow as tf\n"
      ],
      "execution_count": 2,
      "outputs": []
    },
    {
      "cell_type": "code",
      "metadata": {
        "id": "za0AtDjFDcXB"
      },
      "source": [
        "rssi_df=pd.read_csv('/content/rssi/rssi.csv')\n",
        "rssi_df.drop(['ID','AreaNumber','Track', 'Position','PositionNoLeap','Latitude','Longitude','A1_TotalTel','A1_ValidTel','A2_TotalTel','A2_ValidTel'],inplace=True,axis=1)\n",
        "close_data = rssi_df['A2_RSSI'].values\n",
        "close_data = close_data.reshape((-1,1))\n",
        "\n",
        "split_percent = 0.80\n",
        "split = int(split_percent*len(close_data))\n",
        "\n",
        "close_train = close_data[:split]\n",
        "close_test = close_data[split:]\n",
        "\n"
      ],
      "execution_count": 4,
      "outputs": []
    },
    {
      "cell_type": "code",
      "metadata": {
        "id": "1B_TfeYvGt-E"
      },
      "source": [
        "from keras.models import load_model\n"
      ],
      "execution_count": 5,
      "outputs": []
    },
    {
      "cell_type": "code",
      "metadata": {
        "id": "ifM-9E07GdXw"
      },
      "source": [
        "model_rssi=load_model('/content/rssi_forcast.h5')\n",
        "model_events=load_model('/content/model_3_multi.h5')"
      ],
      "execution_count": 6,
      "outputs": []
    },
    {
      "cell_type": "code",
      "metadata": {
        "id": "FyJ2WvDaDHZ6"
      },
      "source": [
        "close_data = close_data.reshape((-1))\n",
        "\n",
        "\n",
        "def annotate_event(out_predict):\n",
        "  if out_predict==0:\n",
        "    return 'No distruption'\n",
        "  elif out_predict==1:\n",
        "    return 'Hardwarefehler Bediengeraet'\n",
        "  elif out_predict==2:\n",
        "    return 'Hardwarefehler Verteiler'\n",
        "  elif out_predict==3:\n",
        "    return 'Position unverifiziert (Eichung falsch)'\n",
        "  elif out_predict==4:\n",
        "    return 'Keine Linienleitertelegramme empfangen'\n",
        "  elif out_predict==5:\n",
        "    return 'Zwangsbremse wurde aktiviert'\n",
        "  elif out_predict==6:\n",
        "    return 'Position unbekannt (ZSI0)'\n",
        "  elif out_predict==7:\n",
        "    return 'Stoerung: Zwangsbremse wurde aktiviert'\n",
        "\n",
        "\n",
        "def predict(num_prediction, model_rssi,model_events):\n",
        "    look_back=15\n",
        "    prediction_list = close_data[-look_back:]\n",
        "    disrupution_events=[]\n",
        "    \n",
        "    for _ in range(num_prediction):\n",
        "        x = prediction_list[-look_back:]\n",
        "        x = x.reshape((1, look_back, 1))\n",
        "        x_2=prediction_list[-10:]\n",
        "        x_2 = x_2.reshape((1, 10, 1))\n",
        "        out = model_rssi.predict(x)[0][0]\n",
        "        prediction_list = np.append(prediction_list, out)\n",
        "        out = np.argmax(model_events.predict(x_2),axis=1)\n",
        "        disrupution_events.append(annotate_event(out))\n",
        "    prediction_list = prediction_list[look_back-1:]\n",
        "        \n",
        "    return prediction_list,disrupution_events\n",
        "    \n",
        "def predict_dates(num_prediction):\n",
        "    last_date = rssi_df['DateTime'].values[-1]\n",
        "    prediction_dates = pd.date_range(last_date, periods=num_prediction+1).tolist()\n",
        "    return prediction_dates\n",
        "\n",
        "num_prediction = 30\n",
        "forecast_rssi,disrupution_forcasted = predict(num_prediction, model_rssi,model_events)\n",
        "forecast_dates = predict_dates(num_prediction)"
      ],
      "execution_count": 16,
      "outputs": []
    },
    {
      "cell_type": "code",
      "metadata": {
        "id": "KMLwi-gSDrGV"
      },
      "source": [
        "import plotly.graph_objs as go"
      ],
      "execution_count": 17,
      "outputs": []
    },
    {
      "cell_type": "code",
      "metadata": {
        "colab": {
          "base_uri": "https://localhost:8080/",
          "height": 542
        },
        "id": "jC8Tj_fTICYN",
        "outputId": "89b3797a-9b08-4a95-ec5b-f1c90d084ecb"
      },
      "source": [
        "trace1 = go.Scatter(\n",
        "    x = forecast_dates,\n",
        "    y = forecast_rssi,\n",
        "    mode = 'lines',\n",
        "    name = 'Data'\n",
        ")\n",
        "layout = go.Layout(\n",
        "    title = \"sensor values\",\n",
        "    xaxis = {'title' : \"Date\"},\n",
        "    yaxis = {'title' : \"rssi\"}\n",
        ")\n",
        "fig = go.Figure(data=[trace1], layout=layout)\n",
        "fig.show()"
      ],
      "execution_count": 18,
      "outputs": [
        {
          "output_type": "display_data",
          "data": {
            "text/html": [
              "<html>\n",
              "<head><meta charset=\"utf-8\" /></head>\n",
              "<body>\n",
              "    <div>\n",
              "            <script src=\"https://cdnjs.cloudflare.com/ajax/libs/mathjax/2.7.5/MathJax.js?config=TeX-AMS-MML_SVG\"></script><script type=\"text/javascript\">if (window.MathJax) {MathJax.Hub.Config({SVG: {font: \"STIX-Web\"}});}</script>\n",
              "                <script type=\"text/javascript\">window.PlotlyConfig = {MathJaxConfig: 'local'};</script>\n",
              "        <script src=\"https://cdn.plot.ly/plotly-latest.min.js\"></script>    \n",
              "            <div id=\"625c597d-50cc-4fbf-9c70-460504c74713\" class=\"plotly-graph-div\" style=\"height:525px; width:100%;\"></div>\n",
              "            <script type=\"text/javascript\">\n",
              "                \n",
              "                    window.PLOTLYENV=window.PLOTLYENV || {};\n",
              "                    \n",
              "                if (document.getElementById(\"625c597d-50cc-4fbf-9c70-460504c74713\")) {\n",
              "                    Plotly.newPlot(\n",
              "                        '625c597d-50cc-4fbf-9c70-460504c74713',\n",
              "                        [{\"mode\": \"lines\", \"name\": \"Data\", \"type\": \"scatter\", \"x\": [\"2021-06-25T07:51:03\", \"2021-06-26T07:51:03\", \"2021-06-27T07:51:03\", \"2021-06-28T07:51:03\", \"2021-06-29T07:51:03\", \"2021-06-30T07:51:03\", \"2021-07-01T07:51:03\", \"2021-07-02T07:51:03\", \"2021-07-03T07:51:03\", \"2021-07-04T07:51:03\", \"2021-07-05T07:51:03\", \"2021-07-06T07:51:03\", \"2021-07-07T07:51:03\", \"2021-07-08T07:51:03\", \"2021-07-09T07:51:03\", \"2021-07-10T07:51:03\", \"2021-07-11T07:51:03\", \"2021-07-12T07:51:03\", \"2021-07-13T07:51:03\", \"2021-07-14T07:51:03\", \"2021-07-15T07:51:03\", \"2021-07-16T07:51:03\", \"2021-07-17T07:51:03\", \"2021-07-18T07:51:03\", \"2021-07-19T07:51:03\", \"2021-07-20T07:51:03\", \"2021-07-21T07:51:03\", \"2021-07-22T07:51:03\", \"2021-07-23T07:51:03\", \"2021-07-24T07:51:03\", \"2021-07-25T07:51:03\"], \"y\": [0.97, 2.130636215209961, 2.132563591003418, 2.135814666748047, 2.1406028270721436, 2.1451776027679443, 2.1493923664093018, 2.1540653705596924, 2.1578209400177, 2.1614902019500732, 2.1650800704956055, 2.168912172317505, 2.172804832458496, 2.1768767833709717, 2.1811330318450928, 2.187011241912842, 2.1976191997528076, 2.1983156204223633, 2.1990880966186523, 2.19989013671875, 2.200662136077881, 2.2013893127441406, 2.2020840644836426, 2.202719211578369, 2.2033193111419678, 2.203890562057495, 2.204440116882324, 2.2049593925476074, 2.2054555416107178, 2.2059290409088135, 2.206413745880127]}],\n",
              "                        {\"template\": {\"data\": {\"bar\": [{\"error_x\": {\"color\": \"#2a3f5f\"}, \"error_y\": {\"color\": \"#2a3f5f\"}, \"marker\": {\"line\": {\"color\": \"#E5ECF6\", \"width\": 0.5}}, \"type\": \"bar\"}], \"barpolar\": [{\"marker\": {\"line\": {\"color\": \"#E5ECF6\", \"width\": 0.5}}, \"type\": \"barpolar\"}], \"carpet\": [{\"aaxis\": {\"endlinecolor\": \"#2a3f5f\", \"gridcolor\": \"white\", \"linecolor\": \"white\", \"minorgridcolor\": \"white\", \"startlinecolor\": \"#2a3f5f\"}, \"baxis\": {\"endlinecolor\": \"#2a3f5f\", \"gridcolor\": \"white\", \"linecolor\": \"white\", \"minorgridcolor\": \"white\", \"startlinecolor\": \"#2a3f5f\"}, \"type\": \"carpet\"}], \"choropleth\": [{\"colorbar\": {\"outlinewidth\": 0, \"ticks\": \"\"}, \"type\": \"choropleth\"}], \"contour\": [{\"colorbar\": {\"outlinewidth\": 0, \"ticks\": \"\"}, \"colorscale\": [[0.0, \"#0d0887\"], [0.1111111111111111, \"#46039f\"], [0.2222222222222222, \"#7201a8\"], [0.3333333333333333, \"#9c179e\"], [0.4444444444444444, \"#bd3786\"], [0.5555555555555556, \"#d8576b\"], [0.6666666666666666, \"#ed7953\"], [0.7777777777777778, \"#fb9f3a\"], [0.8888888888888888, \"#fdca26\"], [1.0, \"#f0f921\"]], \"type\": \"contour\"}], \"contourcarpet\": [{\"colorbar\": {\"outlinewidth\": 0, \"ticks\": \"\"}, \"type\": \"contourcarpet\"}], \"heatmap\": [{\"colorbar\": {\"outlinewidth\": 0, \"ticks\": \"\"}, \"colorscale\": [[0.0, \"#0d0887\"], [0.1111111111111111, \"#46039f\"], [0.2222222222222222, \"#7201a8\"], [0.3333333333333333, \"#9c179e\"], [0.4444444444444444, \"#bd3786\"], [0.5555555555555556, \"#d8576b\"], [0.6666666666666666, \"#ed7953\"], [0.7777777777777778, \"#fb9f3a\"], [0.8888888888888888, \"#fdca26\"], [1.0, \"#f0f921\"]], \"type\": \"heatmap\"}], \"heatmapgl\": [{\"colorbar\": {\"outlinewidth\": 0, \"ticks\": \"\"}, \"colorscale\": [[0.0, \"#0d0887\"], [0.1111111111111111, \"#46039f\"], [0.2222222222222222, \"#7201a8\"], [0.3333333333333333, \"#9c179e\"], [0.4444444444444444, \"#bd3786\"], [0.5555555555555556, \"#d8576b\"], [0.6666666666666666, \"#ed7953\"], [0.7777777777777778, \"#fb9f3a\"], [0.8888888888888888, \"#fdca26\"], [1.0, \"#f0f921\"]], \"type\": \"heatmapgl\"}], \"histogram\": [{\"marker\": {\"colorbar\": {\"outlinewidth\": 0, \"ticks\": \"\"}}, \"type\": \"histogram\"}], \"histogram2d\": [{\"colorbar\": {\"outlinewidth\": 0, \"ticks\": \"\"}, \"colorscale\": [[0.0, \"#0d0887\"], [0.1111111111111111, \"#46039f\"], [0.2222222222222222, \"#7201a8\"], [0.3333333333333333, \"#9c179e\"], [0.4444444444444444, \"#bd3786\"], [0.5555555555555556, \"#d8576b\"], [0.6666666666666666, \"#ed7953\"], [0.7777777777777778, \"#fb9f3a\"], [0.8888888888888888, \"#fdca26\"], [1.0, \"#f0f921\"]], \"type\": \"histogram2d\"}], \"histogram2dcontour\": [{\"colorbar\": {\"outlinewidth\": 0, \"ticks\": \"\"}, \"colorscale\": [[0.0, \"#0d0887\"], [0.1111111111111111, \"#46039f\"], [0.2222222222222222, \"#7201a8\"], [0.3333333333333333, \"#9c179e\"], [0.4444444444444444, \"#bd3786\"], [0.5555555555555556, \"#d8576b\"], [0.6666666666666666, \"#ed7953\"], [0.7777777777777778, \"#fb9f3a\"], [0.8888888888888888, \"#fdca26\"], [1.0, \"#f0f921\"]], \"type\": \"histogram2dcontour\"}], \"mesh3d\": [{\"colorbar\": {\"outlinewidth\": 0, \"ticks\": \"\"}, \"type\": \"mesh3d\"}], \"parcoords\": [{\"line\": {\"colorbar\": {\"outlinewidth\": 0, \"ticks\": \"\"}}, \"type\": \"parcoords\"}], \"pie\": [{\"automargin\": true, \"type\": \"pie\"}], \"scatter\": [{\"marker\": {\"colorbar\": {\"outlinewidth\": 0, \"ticks\": \"\"}}, \"type\": \"scatter\"}], \"scatter3d\": [{\"line\": {\"colorbar\": {\"outlinewidth\": 0, \"ticks\": \"\"}}, \"marker\": {\"colorbar\": {\"outlinewidth\": 0, \"ticks\": \"\"}}, \"type\": \"scatter3d\"}], \"scattercarpet\": [{\"marker\": {\"colorbar\": {\"outlinewidth\": 0, \"ticks\": \"\"}}, \"type\": \"scattercarpet\"}], \"scattergeo\": [{\"marker\": {\"colorbar\": {\"outlinewidth\": 0, \"ticks\": \"\"}}, \"type\": \"scattergeo\"}], \"scattergl\": [{\"marker\": {\"colorbar\": {\"outlinewidth\": 0, \"ticks\": \"\"}}, \"type\": \"scattergl\"}], \"scattermapbox\": [{\"marker\": {\"colorbar\": {\"outlinewidth\": 0, \"ticks\": \"\"}}, \"type\": \"scattermapbox\"}], \"scatterpolar\": [{\"marker\": {\"colorbar\": {\"outlinewidth\": 0, \"ticks\": \"\"}}, \"type\": \"scatterpolar\"}], \"scatterpolargl\": [{\"marker\": {\"colorbar\": {\"outlinewidth\": 0, \"ticks\": \"\"}}, \"type\": \"scatterpolargl\"}], \"scatterternary\": [{\"marker\": {\"colorbar\": {\"outlinewidth\": 0, \"ticks\": \"\"}}, \"type\": \"scatterternary\"}], \"surface\": [{\"colorbar\": {\"outlinewidth\": 0, \"ticks\": \"\"}, \"colorscale\": [[0.0, \"#0d0887\"], [0.1111111111111111, \"#46039f\"], [0.2222222222222222, \"#7201a8\"], [0.3333333333333333, \"#9c179e\"], [0.4444444444444444, \"#bd3786\"], [0.5555555555555556, \"#d8576b\"], [0.6666666666666666, \"#ed7953\"], [0.7777777777777778, \"#fb9f3a\"], [0.8888888888888888, \"#fdca26\"], [1.0, \"#f0f921\"]], \"type\": \"surface\"}], \"table\": [{\"cells\": {\"fill\": {\"color\": \"#EBF0F8\"}, \"line\": {\"color\": \"white\"}}, \"header\": {\"fill\": {\"color\": \"#C8D4E3\"}, \"line\": {\"color\": \"white\"}}, \"type\": \"table\"}]}, \"layout\": {\"annotationdefaults\": {\"arrowcolor\": \"#2a3f5f\", \"arrowhead\": 0, \"arrowwidth\": 1}, \"coloraxis\": {\"colorbar\": {\"outlinewidth\": 0, \"ticks\": \"\"}}, \"colorscale\": {\"diverging\": [[0, \"#8e0152\"], [0.1, \"#c51b7d\"], [0.2, \"#de77ae\"], [0.3, \"#f1b6da\"], [0.4, \"#fde0ef\"], [0.5, \"#f7f7f7\"], [0.6, \"#e6f5d0\"], [0.7, \"#b8e186\"], [0.8, \"#7fbc41\"], [0.9, \"#4d9221\"], [1, \"#276419\"]], \"sequential\": [[0.0, \"#0d0887\"], [0.1111111111111111, \"#46039f\"], [0.2222222222222222, \"#7201a8\"], [0.3333333333333333, \"#9c179e\"], [0.4444444444444444, \"#bd3786\"], [0.5555555555555556, \"#d8576b\"], [0.6666666666666666, \"#ed7953\"], [0.7777777777777778, \"#fb9f3a\"], [0.8888888888888888, \"#fdca26\"], [1.0, \"#f0f921\"]], \"sequentialminus\": [[0.0, \"#0d0887\"], [0.1111111111111111, \"#46039f\"], [0.2222222222222222, \"#7201a8\"], [0.3333333333333333, \"#9c179e\"], [0.4444444444444444, \"#bd3786\"], [0.5555555555555556, \"#d8576b\"], [0.6666666666666666, \"#ed7953\"], [0.7777777777777778, \"#fb9f3a\"], [0.8888888888888888, \"#fdca26\"], [1.0, \"#f0f921\"]]}, \"colorway\": [\"#636efa\", \"#EF553B\", \"#00cc96\", \"#ab63fa\", \"#FFA15A\", \"#19d3f3\", \"#FF6692\", \"#B6E880\", \"#FF97FF\", \"#FECB52\"], \"font\": {\"color\": \"#2a3f5f\"}, \"geo\": {\"bgcolor\": \"white\", \"lakecolor\": \"white\", \"landcolor\": \"#E5ECF6\", \"showlakes\": true, \"showland\": true, \"subunitcolor\": \"white\"}, \"hoverlabel\": {\"align\": \"left\"}, \"hovermode\": \"closest\", \"mapbox\": {\"style\": \"light\"}, \"paper_bgcolor\": \"white\", \"plot_bgcolor\": \"#E5ECF6\", \"polar\": {\"angularaxis\": {\"gridcolor\": \"white\", \"linecolor\": \"white\", \"ticks\": \"\"}, \"bgcolor\": \"#E5ECF6\", \"radialaxis\": {\"gridcolor\": \"white\", \"linecolor\": \"white\", \"ticks\": \"\"}}, \"scene\": {\"xaxis\": {\"backgroundcolor\": \"#E5ECF6\", \"gridcolor\": \"white\", \"gridwidth\": 2, \"linecolor\": \"white\", \"showbackground\": true, \"ticks\": \"\", \"zerolinecolor\": \"white\"}, \"yaxis\": {\"backgroundcolor\": \"#E5ECF6\", \"gridcolor\": \"white\", \"gridwidth\": 2, \"linecolor\": \"white\", \"showbackground\": true, \"ticks\": \"\", \"zerolinecolor\": \"white\"}, \"zaxis\": {\"backgroundcolor\": \"#E5ECF6\", \"gridcolor\": \"white\", \"gridwidth\": 2, \"linecolor\": \"white\", \"showbackground\": true, \"ticks\": \"\", \"zerolinecolor\": \"white\"}}, \"shapedefaults\": {\"line\": {\"color\": \"#2a3f5f\"}}, \"ternary\": {\"aaxis\": {\"gridcolor\": \"white\", \"linecolor\": \"white\", \"ticks\": \"\"}, \"baxis\": {\"gridcolor\": \"white\", \"linecolor\": \"white\", \"ticks\": \"\"}, \"bgcolor\": \"#E5ECF6\", \"caxis\": {\"gridcolor\": \"white\", \"linecolor\": \"white\", \"ticks\": \"\"}}, \"title\": {\"x\": 0.05}, \"xaxis\": {\"automargin\": true, \"gridcolor\": \"white\", \"linecolor\": \"white\", \"ticks\": \"\", \"title\": {\"standoff\": 15}, \"zerolinecolor\": \"white\", \"zerolinewidth\": 2}, \"yaxis\": {\"automargin\": true, \"gridcolor\": \"white\", \"linecolor\": \"white\", \"ticks\": \"\", \"title\": {\"standoff\": 15}, \"zerolinecolor\": \"white\", \"zerolinewidth\": 2}}}, \"title\": {\"text\": \"sensor values\"}, \"xaxis\": {\"title\": {\"text\": \"Date\"}}, \"yaxis\": {\"title\": {\"text\": \"rssi\"}}},\n",
              "                        {\"responsive\": true}\n",
              "                    ).then(function(){\n",
              "                            \n",
              "var gd = document.getElementById('625c597d-50cc-4fbf-9c70-460504c74713');\n",
              "var x = new MutationObserver(function (mutations, observer) {{\n",
              "        var display = window.getComputedStyle(gd).display;\n",
              "        if (!display || display === 'none') {{\n",
              "            console.log([gd, 'removed!']);\n",
              "            Plotly.purge(gd);\n",
              "            observer.disconnect();\n",
              "        }}\n",
              "}});\n",
              "\n",
              "// Listen for the removal of the full notebook cells\n",
              "var notebookContainer = gd.closest('#notebook-container');\n",
              "if (notebookContainer) {{\n",
              "    x.observe(notebookContainer, {childList: true});\n",
              "}}\n",
              "\n",
              "// Listen for the clearing of the current output cell\n",
              "var outputEl = gd.closest('.output');\n",
              "if (outputEl) {{\n",
              "    x.observe(outputEl, {childList: true});\n",
              "}}\n",
              "\n",
              "                        })\n",
              "                };\n",
              "                \n",
              "            </script>\n",
              "        </div>\n",
              "</body>\n",
              "</html>"
            ]
          },
          "metadata": {}
        }
      ]
    },
    {
      "cell_type": "code",
      "metadata": {
        "colab": {
          "base_uri": "https://localhost:8080/"
        },
        "id": "SPJbPieoIVQ8",
        "outputId": "05d8e4b6-157a-4c29-cf8a-52dc5f59ebc2"
      },
      "source": [
        "disrupution_forcasted"
      ],
      "execution_count": 19,
      "outputs": [
        {
          "output_type": "execute_result",
          "data": {
            "text/plain": [
              "['No distruption',\n",
              " 'No distruption',\n",
              " 'No distruption',\n",
              " 'No distruption',\n",
              " 'No distruption',\n",
              " 'No distruption',\n",
              " 'No distruption',\n",
              " 'No distruption',\n",
              " 'No distruption',\n",
              " 'Zwangsbremse wurde aktiviert',\n",
              " 'Keine Linienleitertelegramme empfangen',\n",
              " 'Keine Linienleitertelegramme empfangen',\n",
              " 'Keine Linienleitertelegramme empfangen',\n",
              " 'Keine Linienleitertelegramme empfangen',\n",
              " 'Keine Linienleitertelegramme empfangen',\n",
              " 'Keine Linienleitertelegramme empfangen',\n",
              " 'No distruption',\n",
              " 'No distruption',\n",
              " 'No distruption',\n",
              " 'No distruption',\n",
              " 'No distruption',\n",
              " 'No distruption',\n",
              " 'No distruption',\n",
              " 'No distruption',\n",
              " 'No distruption',\n",
              " 'No distruption',\n",
              " 'No distruption',\n",
              " 'No distruption',\n",
              " 'No distruption',\n",
              " 'No distruption']"
            ]
          },
          "metadata": {},
          "execution_count": 19
        }
      ]
    }
  ]
}